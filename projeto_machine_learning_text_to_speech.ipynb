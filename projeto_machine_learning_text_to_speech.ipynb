{
  "nbformat": 4,
  "nbformat_minor": 0,
  "metadata": {
    "colab": {
      "provenance": [],
      "authorship_tag": "ABX9TyOWgCCKt3jmPKqQknaTQdnW",
      "include_colab_link": true
    },
    "kernelspec": {
      "name": "python3",
      "display_name": "Python 3"
    },
    "language_info": {
      "name": "python"
    }
  },
  "cells": [
    {
      "cell_type": "markdown",
      "metadata": {
        "id": "view-in-github",
        "colab_type": "text"
      },
      "source": [
        "<a href=\"https://colab.research.google.com/github/MatheusMataBIO/Machine-learning-assistente-virtual/blob/main/projeto_machine_learning_text_to_speech.ipynb\" target=\"_parent\"><img src=\"https://colab.research.google.com/assets/colab-badge.svg\" alt=\"Open In Colab\"/></a>"
      ]
    },
    {
      "cell_type": "code",
      "execution_count": null,
      "metadata": {
        "colab": {
          "base_uri": "https://localhost:8080/"
        },
        "id": "kpjC3WKNvCBi",
        "outputId": "e604beaf-cb04-4e4e-ac0a-ef36baf193a3"
      },
      "outputs": [
        {
          "output_type": "stream",
          "name": "stdout",
          "text": [
            "Collecting gTTS\n",
            "  Downloading gTTS-2.5.1-py3-none-any.whl (29 kB)\n",
            "Requirement already satisfied: requests<3,>=2.27 in /usr/local/lib/python3.10/dist-packages (from gTTS) (2.31.0)\n",
            "Requirement already satisfied: click<8.2,>=7.1 in /usr/local/lib/python3.10/dist-packages (from gTTS) (8.1.7)\n",
            "Requirement already satisfied: charset-normalizer<4,>=2 in /usr/local/lib/python3.10/dist-packages (from requests<3,>=2.27->gTTS) (3.3.2)\n",
            "Requirement already satisfied: idna<4,>=2.5 in /usr/local/lib/python3.10/dist-packages (from requests<3,>=2.27->gTTS) (3.7)\n",
            "Requirement already satisfied: urllib3<3,>=1.21.1 in /usr/local/lib/python3.10/dist-packages (from requests<3,>=2.27->gTTS) (2.0.7)\n",
            "Requirement already satisfied: certifi>=2017.4.17 in /usr/local/lib/python3.10/dist-packages (from requests<3,>=2.27->gTTS) (2024.2.2)\n",
            "Installing collected packages: gTTS\n",
            "Successfully installed gTTS-2.5.1\n"
          ]
        }
      ],
      "source": [
        "# Download da biblioteca que será usada\n",
        "\n",
        "!pip install gTTS"
      ]
    },
    {
      "cell_type": "code",
      "source": [
        "from gtts import gTTS"
      ],
      "metadata": {
        "id": "mzkf5cJUwrQe"
      },
      "execution_count": null,
      "outputs": []
    },
    {
      "cell_type": "code",
      "source": [
        "# Variável que vai armazenar o texto\n",
        "\n",
        "text_to_say = \"Você joga futebol?\"\n",
        "\n",
        "language = \"pt\"\n",
        "\n",
        "gtts_object = gTTS(text = text_to_say,\n",
        "                  lang = language,\n",
        "                  slow = False)\n"
      ],
      "metadata": {
        "id": "6zMjNmcSNU9A"
      },
      "execution_count": null,
      "outputs": []
    },
    {
      "cell_type": "code",
      "source": [
        "# salvando em um arquivo wav\n",
        "\n",
        "gtts_object.save(\"/content/gtts.wav\")"
      ],
      "metadata": {
        "id": "l_p7BNciSxd-"
      },
      "execution_count": null,
      "outputs": []
    },
    {
      "cell_type": "code",
      "source": [
        "from IPython.display import Audio"
      ],
      "metadata": {
        "id": "hdhXIgjsS1SK"
      },
      "execution_count": null,
      "outputs": []
    },
    {
      "cell_type": "code",
      "source": [
        "# àudio com o texto que foi criado e a linguagem pedida\n",
        "\n",
        "Audio(\"/content/gtts.wav\")"
      ],
      "metadata": {
        "colab": {
          "base_uri": "https://localhost:8080/",
          "height": 75
        },
        "id": "kZ5myZalS4Dz",
        "outputId": "e5a29583-3f22-4e5e-95cc-4db08ebadad9"
      },
      "execution_count": null,
      "outputs": [
        {
          "output_type": "execute_result",
          "data": {
            "text/plain": [
              "<IPython.lib.display.Audio object>"
            ],
            "text/html": [
              "\n",
              "                <audio  controls=\"controls\" >\n",
              "                    <source src=\"data:audio/x-wav;base64,//NExAASOFnwAUkYAABhttQUCgUCgUCsVo0bc5zbQIEEAQBAEwfB8HwfBAEAQBAEwfB8Hw+5QIAgCYfg+D4IagTB8P8QAgGOsHwQ5cHwf9Tv/854nD7LzHCAEEK6g8Z7//NExAoUeeJQAZo4ANQoT7DgdP/wA/EQeThOOEAkEkv4lnnsIg4NCf7kM4hRv/zp6j4//5/Ku+eZ/9899XGhQgTOJp/OSB+fBRIMg2I//z/PqhRj1Uq4W6MWMUaCiQNu//NExAsVEQZwAdowAAKliEIiOYU2iOgdKmoQI5DuQBCIm/7xxpy3qdQs4IIABGMijydKaCBBLP4bGz9s/iPBAyA8+ycyHcMBk4hweKDBZ1Tq//////oVdpp0XlAiGDmg//NExAkUsKaAAN4STJGgGLOKKzLzK6ylMpWfjvGbkdrbD5ETxgpnqCIxG8XgHxgVOthpc+yShTsuOWdTxSuhIxQRGqGFHIEFxxXt7o8uXPreXzCvc1ZtTUgS/HySIn1h//NExAkUULKQAMvGTMyohFQiG2FmVHZ+vj54RDgIO7BxVAMOBlRcBQDnyBQgEwRCgQIuDJxQsTJj1k96qjBoVPn4fKYRaKkHVpLi1lyP2KHLa2n1elV0Ycy4ncceIcfa//NExAoTaZKcAMsElJRPiAUxSzPFadIWRAJh/PxALA2kRXrGSHH23+mjnzSn9tMlFlYquW2dW1vOh6PSW0yz399JBZAMME5wMVo/q////99CWTIuXImDD8SUpFnLmUha//NExA8VsdKcAN4QlbzURJPOQ348/yZ9bLJ4QpR06SOrqXMy5SGWt3YzCOayyob+WX6p7/0/7m+b1PVVz/5R+/2/2Wp6YOz2KQLAsNnmj69UF3GWpoInsf6ODyZXh+NY//NExAsRkc6oANSOlGMpMHk1ZlCvh2tagnhJH00y4LPDTCvygVfY/6L+nzH8cfZwPLP1+v0+OZw6PjZjOR8wg584z////d/laiwt8JhQc3UtAmwnLByciB1GGDQuXZaA//NExBcRcbaoAKTOlF+jM+ikaDOgTSLGkyyaII2tIn38n9/O+cr6iQGT+n7/t3Y9FHQejQi84eOjgo+ihvvd1CqaUVRf8K4U7HSm1tUxnQ5ZDUOoWNBdQjICUOwutMhC//NExCQSGaKoAMwElFK69Zz6ejfN8y+GMnOItqz+30XKUMfQAjNgfc7////7q3pW8pVZbzgQUOYYJzIMGgHEaLtRERXylpgKALZTk+//////t////27os9f//+Sii7////NExC4RUxq0AIlKvejZ3oIMRXkIyUkA4u6znPMKK6CggBCQFWfMEQ6TSVP//+df5r///++U////v6rmtfb+i9X5q5ymIpW9W/ahVCo3VjB5CI8eVG7EixIsNjR0RxsN//NExDsSUyK4AChOvMgPkTXGpRRsJQOCoSip1Qvmv////+f/L//y/9v/2/X/2r6+vRtK6LOzTZxtb1XS6MroOvOUqWHzTFG7DYVDQSh8Hx6lBsOCISKDhUWGDpgijADQ//NExEQRqyK0AAhOvJBwkgYv//////19f/58/+b0///b763R2XsuurMrpNR0q01D7TOr1V0Yy6mTTUKjcXGD4nEpzThuKRhCoiBILAGREkh4CYL2HxJAuKzqYf////////NExFASYyKwABBOvGNqbq/////////9PZtb6ft6anekhzrMu6XUiPqJCrncNDDCgKLhEJMHQoWEhQqkcSEgDAI5QQXOc4mEx71ffVyFAfPispFv+9+////NiT/9//rV//NExFkQqyK0ABBKvP///Snf3dqfbWZf5XqQ4sweR3mZf9LmiqkYRERgkoqLEDxVh0CqQDCR3cxzB47GCIAh0sKtrLeEdDDkRFLnii72vOW4YKKp5ikav7BBK69II1f6//NExGkSgxqwAEhKvejfGorBc+KDxxRQDggyLPPfqe5meeYNGPV0Z+r///6Y4wnYt3/Z///spY/O8/4IBXr27maz6mf6Eu2LqJANLdQux75AJz9AvB8+gEgXIsml5MQM//NExHISMb6wAMJOlAnzVDUUC8lZnNUV1KKBeHqWMZEUexsqpTfZf29Z9FFFFRcTMTwlBli2f//9Dv7V2G2A+f3loysBe/Dc02UwSBAQXED0cQQF79RMLrxKCnfoFGN7//NExHwWccKsAMqalDQvgVzqQ7QbRRU1ReJTXJpKIacdpTQdNIdxJv6L+6b9FD5l03HagaNAK5b//+//6ckytWAc3+c4bRM2a1qgfoBMSMVYNz1ETb1DUfpOuMF80ISr//NExHUVIcKoANqalEmDiTpnCsB2k1ltx2/9OOV7HjsfBynC49HTpd9z1f/vfunJTHPa2S1NkfFHt6///xf/9QiAZ8uqi9FvU2xo131+dyyYUOwB1VKmgiK+JP6h1vCh//NExHMVyeKkANNWmGXIMBbnORgbtMvZS6yBbxcXOJGReVv76MhyK5FY4fHRjgBQhEBkp///7dv1Jqpvdd7xWwNNV5hmsh+8sf/l/C/t/2NdnUEzJ9P9e0tu1yk0+k90//NExG4SIcKsAMlKlObd++S/eDbPKNJCc7EoWJyuseH4dK2u/F1ol91jsvuZTeX3pCvjXr6VX4scm9qUme/pn+Y7J6Vn0+djrV7q26Ctt+WAaB95LD4Zp1zgQA7l6yeS//NExHgbcuKsAMCYuf////+cxf/yOWqp0vlH633jokuIVDTLOFg9UFRQkB8GolEUPVFbGxDkGlzyxsHRvwdZ7LsLu5drbTdzfozvVdZFY24R6x8RTKvXaTf098up8ErV//NExF0XCw64AIBQuSFElQI26//////IIf//rdHVF9b0ESnjBYrCgwWMLIKB0yFCYDMMM5I+Qx5Hc7KpWR2ZmZCHW9Kl0T/bHMmIi6RHSaHo963LMnyaCcF180U1Vf////NExFMRwpbAAFBKuP5bL///1ytZNiJUwUQrBg6oHBIUKo4oMLEjAQABHONUSwqMEXCLUBlvnO4vuJjf7/9LOxp3t10nr08d/vpVu959UQxfq92tSGuIQuT8OMIvX6gY//NExF8Sgcq8AGhElb3k1OCAIcAHQQ3P/9muhxZwjlKy8h5QElHBjlEiWM9gokNBUNE7X1sqCj/7v+VyqoMy1jfHirhzuddP4HoS2yzpxTgdA8J9n3o3HK9ILCfkfF24//NExGgRGZa4AMCElBgHh46QLaDrntLqVvi1VRqeJs1zko6ialKRALMrKLryG8QM9xBRhc1Fjjrh9P////+3dTWh5zeABFWk96Ukig77/UvYAAFzNZinv1Ifub1YZWt3//NExHYVmYasANPKlCwuyszQZNzHCG8Of+cB2v/G9TeDZ7BwTvQxnzo+yG6EbUoEZyHFiXLPSYaWCqVg5/////0oKkWgtfq6IB6etviwRGHF5y/KAFoag+kky0rX3HKo//NExHIVcZqwAMZElEkXHprNS8Har4c7APP/9yjP/x3jPj/CKuWg7aV/X1I/DwpdRob4kwAKiCrJf////63D1UjfHhAyLTWwkwM1cZLIINBUCMRQOjhImpA1EYh7BCOg//NExG8Tka6wAM4KlLDkSJvmJVfqV9vP6p1KLNoO3KjefzE6kbUYf5URjEM9VYpPc7gzZqOeGpkBZy/krWSNqQNV71jDU9fjKREy5c9zKDUUIp3eE069v/+hw/r6k9Rc//NExHMQIZq4AHyElfwEdmlArvx33XuRtBezxESJzChyfF7P////+xSDKrVr/xJRwLf3jHhWDiY6oVVBDVelv/jysVXHVM0VNCk/G6+D12bX5YwP3/3M/5r+7dShmNgO//NExIUT2bqwAMZKlBWTXQm/N+x/rV46Pq81S2lz1poflcINJ5aRwnQ44KyX34zIG2Ii029ZsxkGP/Mt1SgpfzoCERfCx3XbED9/9zL+hDqIp3cIxINoNgiduY/U1/Ru//NExIgR4a60AMYOlGml6uOlhLPecPF3UInSzv////4STLY+TNyu7l5UdZC316NKzmdSJOw9ZtAFeOHX1ZhUMTfycpOWje4grwXpNWauGJ9G/3U2+dXqaz1EUHJnmt////NExJMVsbqsAJYOlP+v1Y6bHTArKu//////RTC0ExcMQoaipSbhKGVkEKU7asKo6NoDiOkozfARhvLMTESm8Qr0jPo0COhQgFsy86SkuTrMqU/G/f++VTKyXoG//+tz//NExI8SqbqgAMvOlKVQrpUsMi7r5wItI4TUqAg4I5BZsKmjFAGMutAgKIbxneFxtf/7SdXrz9e/94DA8YcTg3LbbCcEzaoBxdhA5G0wIycoSgRMgdOfXbhCDHhC5whC//NExJcR4QpoANvScBCEP8qGfwykdQ8MRo2+ujRo0Z8Rg+f7f/+z7/res3BBgZyItNtwMGSlA2g0D6AERNzjzPwVK+BoIj5DzrjfCoeYthMs73VdRHCFKrTZHPEa2BPj//NExKIbscp8ANMSlDyOY0o/aXIUhBzUXzDRRywKkLEnJCnnqnT8kOa+c2r8w80puA8g2zh5HpH7Gr40WNCORCGtiYWZOPJIr7z7kDZv///iQu8QLh/DyoYwy1KTSj3t//NExIYfWc6YANvelLNM+yb57BCYqlUShtOAmbcNx6kdWdd5hGEZ6tr/rrB4ZZTIXNHp8K8rjRlQSySYVYwJFs6+grL2t8yaoDCLetUsfoVQX8sdsoy5r5XGu/+5iW/v//NExFsgEcacANZwlFXi9b97lcgpq1mOtednP7kmdGc5hh8POD4aq1//7qXTko63Ewbqr//5ERsKp8qALDAsHedx2BTBk87h83Anf1SKzy7nakzAX7oZEkKVl6zoYinr//NExC0W2cKwAM5WlEd/TCAK7rYRF+MgAza5zRHDnDJN1pm1Wf6tc3Mf5TWnaYavYtlR/fNkpcn///11l2P/fJrSSVcmwU4apIrNwuwkpvMiiypY+/hdH9B17Dtm+YJc//NExCQU2aKwAMPQlACWPKLjp5y/wxp1+T3wUx05ILRqxjTf1if2/+Jr2+ehYy2sVODgWcszd///1//yqlmb0GSIC0ZeqGmQqfOXN2MqufNU234ESGp2iaKp7ILCZwIh//NExCMQoJ6kAH4STIBNYo50/D4IA0FReQWX0rbsJAE2yze9L2bfT/9ez/6KAGsaItobOi/nGFxFGE2MJo0VUmhkW2T05rE33mtfdlwsAxUo5x/QFlEAwwIRcFjznAst//NExDMRCT6kAChGcHfMUA6o1tulnpe9tnrdtaoQVQzO/ZaupX5/T53dIFh0n4mOOQ2V+M8HzWiSrdyzqqUb82rlPvnmZslKPFvKeUaDreRhsMSdbJY2SXGdpB8QqAhB//NExEESYcacAGjGlEWKXVMa88KBhQUXdv3Z7PllICgAMSuEYe1qTDmY8HlLEQxxToIjHxfcrTmLuU7eoeBWkXHKiwntsv1bY2tN/Hd////+//PqORuPM2lmqp/oP6nW//NExEoSkMacAChGcdUWIcKr+cGffsQti/8t9u+GYxsMHG7tH8Nhppk+VeQFoYckctYEOAYXQetHxqH1GG01DlvUMLOFBZaRKpPXRHqtehvvY5tg4UVu8opaimYUYXlU//NExFIR4LKgAFjMTJNHMTD5JMlczXXzifOGUg6Xe87AHQ4Lxuzs+s6jwN0zrHxv51bfskynql01Xbb//I3Axeo5Of////oVgatu06pMq6dt7jBww4kXeKZpqqJ1/CUj//NExF0REZKgAMPElLrKpAdgdaPam0fZe3+4b+D/ilf/v+pzcheRdQ6tr///qiyCHac7FKcOLYRbyqs6IoNpW1Q8OgHzJR/LOADyzn+uPz4co2eu9QaTrsomSPRcKGel//NExGsQcbKkANvElCBG+1Fb544TTEQNJlSSn18zzH3m9zuODKOys+eY7OxZRMj0WeAyB9C24hNER03MoIrMBpH2galltre8fyxuU25GWv5JuzA8ACCIkOQ9Y4piTbWC//NExHwSMb6gANPOlI78oWGiqaYa7F3zS5YsbuySf2LC/fRSOJlaQ2+WeUOWuyJwIFfWK1JHZz/OnUnes0Wmjam9I0LhUSUtdGrYnDxFxzyfa3rpZfWmOYVPVve1bqLh//NExIYSaP6MAVpAAThEy4VCboJppaS2TdaCDssi5uOwgYpcNUCgBcAsaet+uvXqOUKS5w0IaHxiPxcBBCcIATiCFaHb9fT1XZld80QIObpmZfcihOMaISsNoR1T7dP///NExI8huyZsAZmAAP//77+Nv//8bmV3/HHFRdQzX/qZ07eic0ahxKPpTL6egbww4fa4P4J6gFBoD+SiBJo6DQfgbBEHcm+WMJ9vafY8mFaxWsiZ54+7KV01x2DkoUHw//NExFsfEyqoAYpYAJKrGHIZy+2MZXfqIpmJecMHm5sxNZP81M2LNKHjYYH5SpUQP/1//////PH//MS5jf4+4//dT3sZUcTU1LbuzqVKoqIqEMO0lF7x1FgJCEGwCBPY//NExDEdCxa0AcJYAT6N47h2DcPI8CDhIdxCn1B7ekcPoIrmhsccQaxUhMy8dzF9Vj4h9MueVXSySHOmB86fqLZuJh9ZDrOMbc7KexucTkeqCP/3//////7Pzz7k+0x4//NExA8VCtrAABBQueuK6u4tltu4JU2liXg84VGi4KQ+LKAaHrirSzHLvuaMmy2hxybiQYwhqV8qzXMQPjZvi1kVK1KPYVr6lpd6gbUA6H/AbdWSPfY5AVCGpdOBxgCs//NExA0VYcK0AHhQlJPiBkZ5/G/9lOQPGLSnOWWiveeOEqEqlmeZ/+uf11qMYVmkisFhyAqbIcuOKtgaEx5gNHjolTICIcDT+iJTqCoiAxVwLVIt4mVrcxvyQZZrtTDL//NExAoVEYqoAMnelQG+mdJK6WzXEp9U5gs1PGz6EGqNw808RwHhCWeRSFGjYOoScd47A0MU+U+inr3T6EwxrbhzW3nFv7w8Y8Oa9c0pHeqjBpQG882+1XVu1IJEg0Yp//NExAgRMW6gANGQlB50FDUSTfGVWSN2HyDz32Zb3LawLKdsRR+AsOaiRCe8mg8H0xMo0jBZrlw5FfyV+fr1X5jmCTWWRDsFa60MLQwSa6Igg9BTDj2HJOYCUkQTYjkj//NExBYRAQJwAN4GcAib+T0pf9/t8kr9Rq1Xf6GaKVUNqlEigxBhQVf2qr/et1SDNhVcpjv0iVZZ/5UxImjCwGj5g0NHuzKRD4mBrOzHgBFh60PIVSR+l85gPgkuVAyy//NExCUSaPpcAOYKcLWMYLlljG5AWHwmXey16Vuj7MlRAFW21Ypp1+nt+3+r6v+zb1KuZIAAkBhABzfEEIg66zSBEaAFMhR/lWALDrjwhSiTUeIcTklCkAoX6aotK5oJ//NExC4RqKZkAOPSTELmwJxAGBzh1JAaQGB+at/uvT///0///0195BTUJgnpMwNFEhzqaKoavoQIVm05euDH1XIwTlV/lhHUqMoQYMgF6felYXerIINl//YiH7N/n/8R//NExDoTYSKcAM4McBuHgNKdMxTmRHTYH1nxwRfKKHjl3/JsRLtP5Ues22JrGSys9KR9VWjVQZpO16SPoGQ5GoFC40SMcOu5//cme/+8P/6xbr53Q9jjjA6cpgvPfIm0//NExD8V4cKoAM4UlCjcn5r3iUaqqddDBbPZzCfBhSXf////upXnedcRTmxnKgsjF8Oxk9xhNTU+McGCzZkikCxCqkoINkPUtRNGmovea+3X19PHGmKBd+Q9u3t0JvNK//NExDoRsa60AMzOlA+9xSToPtP1/////6W7a5pNps+F2hGDN9jWbGdlgT5om4PRZWVANUZakg2QriA+UX0TTpL5vt/p5RehQkKasepU0NeZ26CYpEh5PBhmSTpNlH88//NExEYQsaK4AMNKlZRGP/dhYzBP8xgoV+BHc8tEawouZBMAFpqSIeGQRJHqHU/UadTc3o3n4kfiIHdSB4EbQX5m8nEjvWBGVA8yMoiRyTCw3/////U2UZV/4joA8fnT//NExFYTcb6sAMzKlLzCNg4QY1XhwCwAeceHjKhgUgsPIVE8McAdGIqYFQgIfKW7GQ9H9Rn539q/av8++Chd+QdD4ekB0Sf7Gv7P+0v2wsHCQwlHywdCOKPyTbg6Hypn//NExFsYWcakAM0QlP////4xAqqO9/CXk3p+HMZUe6QL2YiwAjguMgmNEOfQI8AwyKAKBqgXh65iVm1ov0X6fX0flFqKQAgwyHHE+c/NZ9WJ6FQflzR0iPEDVAxDQXAr//NExEwU8a6oAMUOlD/////Y2thavUe/Z6YQFFbcVbiYaOHD5qhsmCYGgTvJQ7RMtK8LSToZS3kp1uI6/9VZz//63P/+P0f0bRj6B4JgcWgMNfVj6lTox9UUTVQkJvqY//NExEsT6Z6gANZKlXOJCES1djPv2RUi/87TRIcAnDBr3pJk5AFNQPGJ+BVJ4sv4gwgIJN4+8trJTXxbX/tn///u3KivKEjCkpU1R27r1uSxBx4Lt1hbppVy1nfBg804//NExE4RgZKkANPKlZZvQUxYBiUA7K0aJwxGpKjanusPB76luRsIQOL08oxjWf7/Krvv67v//X//19FvdAygEjqydf/aquhw0JjJio2qfyd7dkiL5rDHqHGKV/yzwhCP//NExFsSCZKYANYElBqN4JtL8pj61QUcXofmGn7WFYKyV36+saUgtHspD////3K6IYCCuNb+0KoBk8RFKkcpNA1m3GAKSHXvQ0SqYIwOgupASjOfAFLPVoWDAzGHO4aF//NExGUQUTKQAM5EcGM5m4TlMijefHUKGFk5Ss3lZP/rplKYCdzHI+0RiccHXbU/////+uoRBGWRbklfoCi0xVHTQQSUOWIig6Ci4IAJAJU0G1ya56VRgUECQPnIpK15//NExHYSkS58AN5EcGKARHOdip1g56hRe9/rQmVCPV2lTobeGtjf/////qowFCwYDwCAKWAcz82els1CM0xFGQwRDCX1jEUMzD4SxIQkfc8gNcPATdBTAAuAD3wtB4N0//NExH4SYKJsAVxYAENlIIZE0bmPyCIjMFQmzIgSiaIt8kCoSpImRTUXi8p/5fJw0PlAihHIoqRYy/0DY87omZYWpLXWj/7ukmjVQdLR/v//snoMs0KS0DVE97BFajGb//NExIcg+qZIAZ2gAKLhOltDBFxWpYNGuR5PuNbWdxtP4RgBgwqsewbChcJrMkQIkUh9jUhdpx6QaShwGUlDdwvH0h1bXiU6lhOYpR9v/VqWpja1EAaDs/swvbvaz1lG//NExFYSYJ4IAc8YAKL76WMp9pM2QTGV05CkKRVO9S1ZGP21uEC54SqIFgAl4uFEAcKEWMF4q2gi5bRAzsUwD9k32YQWi/0F6DvQE+ONqeyP2qNFiyRlgpAc173KswKw//NExF8SePIEAGJGcLAS0Ti4P421okM8NW5/Wy6JbUoKpUFjICjwEaqkZieViWJVL/1qfupyB63FdUs1sY94mgF0JYXOqlUj7DXvwQRggZOHQ0HGHI4FFFLnDlKwypjM//NExGgR8RIAAHmGcEOsJkzck2XeocqtcE8WBgEgmAou1J0swVc91Mzein9uvuS4zNIein/0VQxievVG+iWewN6xsVVqxkdSA6op1Mghz0Uzyztkmvkhh3C4mRMmTSxE//NExHMSSS30AHjGcNF+M8gkpJhhK1tqTUL5tzNvQPY1Xo6dagWhN2YEys1BIHSMFA0w4MafDIDBYsFTwVcxCmhYMpSSAa3Akk8xZkwaeh5H9WWkwm2qKuY6KrYxT8re//NExHwQGPIEAHjGcK/7PupqAlgYBO1qypTDcwjdEVMxnUqbLCzRIlzhMukiwOBUGSoQosc/JJCMvU1BtzhZ5kBFmtrWwls6MVSA1mpwc8yQPiIyLNKBGZ1a6gxFaTFB//NExI4P0CoAAHpGAMax8WQOXsRXw3Q2AgKLirxUJKVQRABFwsuBZxcWWaRYqLHHpkT8je6cfYXVZIOSfi+7R/9m/LqtiCoNoijPfKKCRkMLNY5CQMQoRDQVew6yPABF//NExKESEFH4AHmGJPjkCxiL4ovS2WTeKJPoutFDkoy52WeMHm2p3Jb2vY5Rgft46PUYoWokIsLAAITXAIVAIGgaEp3W4sPCQ8aMPBrg0JTsFes7ELtWWPREe6g6JXB0//NExKsPkEn8AHpMJBWSEvlQ0WBr2ESRGGgarOlXVFnxKIXQaEuSEVULCEPA5BMYdiVSyWiqqqqmmmmiqI///tNFVVVVNNNNFVVVVNqaaKr///TTRVVVVTT/0f/Kqaaa//NExL8QQE34AHmGJGiqqqqmGr//9VVNNNNFVVVVMqpMQU1FMy4xMDCqqqqqqqqqqqqqqqqqqqqqqqqqqqqqqqqqqqqqqqqqqqqqqqqqqqqqqqqqqqqqqqqqqqqqqqqq//NExNERiC30AHpGAKqqqqqqqqqqqqqqqqqqqqqqqqqqqqqqqqqqqqqqqqqqqqqqqqqqqqqqqqqqqqqqqqqqqqqqqqqqqqqqqqqqqqqqqqqqqqqqqqqqqqqqqqqqqqqq//NExN0SeCU8AEmEAaqqqqqqqqqqqqqqqqqqqqqqqqqqqqqqqqqqqqqqqqqqqqqqqqqqqqqqqqqqqqqqqqqqqqqqqqqqqqqqqqqqqqqqqqqqqqqqqqqqqqqqqqqqqqqq\" type=\"audio/x-wav\" />\n",
              "                    Your browser does not support the audio element.\n",
              "                </audio>\n",
              "              "
            ]
          },
          "metadata": {},
          "execution_count": 7
        }
      ]
    },
    {
      "cell_type": "code",
      "source": [
        "english_text = \"it's very expensive\"\n",
        "\n",
        "english_language = \"en\"\n",
        "\n",
        "english_gtts_object = gTTS(text = english_text,\n",
        "                          lang = english_language,\n",
        "                          slow = True)"
      ],
      "metadata": {
        "id": "n36oYcIKS96J"
      },
      "execution_count": null,
      "outputs": []
    },
    {
      "cell_type": "code",
      "source": [
        "english_gtts_object.save(\"/content/french.wav\")"
      ],
      "metadata": {
        "id": "P2JU5PfFTcQh"
      },
      "execution_count": null,
      "outputs": []
    },
    {
      "cell_type": "code",
      "source": [
        "Audio(\"/content/french.wav\")"
      ],
      "metadata": {
        "colab": {
          "base_uri": "https://localhost:8080/",
          "height": 75
        },
        "id": "iJrrHWuYTfnY",
        "outputId": "7cd89e84-9a15-446f-ce1a-1041b7df81cf"
      },
      "execution_count": null,
      "outputs": [
        {
          "output_type": "execute_result",
          "data": {
            "text/plain": [
              "<IPython.lib.display.Audio object>"
            ],
            "text/html": [
              "\n",
              "                <audio  controls=\"controls\" >\n",
              "                    <source src=\"data:audio/x-wav;base64,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\" type=\"audio/x-wav\" />\n",
              "                    Your browser does not support the audio element.\n",
              "                </audio>\n",
              "              "
            ]
          },
          "metadata": {},
          "execution_count": 10
        }
      ]
    }
  ]
}